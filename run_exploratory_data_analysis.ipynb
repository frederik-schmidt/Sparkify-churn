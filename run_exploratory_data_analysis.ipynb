{
 "cells": [
  {
   "cell_type": "markdown",
   "metadata": {},
   "source": [
    "# Sparkify Exploratory Data Analysis\n",
    "\n",
    "This notebook contains an EDA of the Sparkify data with several purposes:\n",
    "1. Understand the structure of the data\n",
    "2. Clean and preprocess the dataset\n",
    "3. Identify possible features for predicting churn\n",
    "\n",
    "Please note that we will not work with the original Sparkify dataset (12GB) in this project but a medium-sizes subset (462MB). This is because I wanted to implement the Sparkify pipeline on Google Cloud Platform (GCP). The original dataset is stored on Amazon's S3 though and the way it is configured does not allow to easily transfer it to GCP. If so, the pipeline could easily be scaled up and re-executed with the original dataset.\n",
    "\n",
    "When working with large datasets, it does in any case make sense to perform some EDA based on a smaller subset of the data.\n",
    "\n",
    "## Requirements\n",
    "\n",
    "1. The notebook must be executed from GCP so it can access Cloud Storage directly.\n",
    "2. The notebook must be executed from a PySpark kernel.\n",
    "\n",
    "## Content\n",
    "\n",
    "This notebook contains the following steps:\n",
    "\n",
    "1. [Load Data](#load-data)\n",
    "2. [Exploratory Data Analysis](#explore)"
   ]
  },
  {
   "cell_type": "code",
   "execution_count": 1,
   "metadata": {},
   "outputs": [],
   "source": [
    "project_dir = \"/home/Sparkify-churn\"\n",
    "bucket_name = \"pyspark-cluster-202205\"\n",
    "file_path = \"data/medium_sparkify_event_data.json\""
   ]
  },
  {
   "cell_type": "markdown",
   "metadata": {},
   "source": [
    "## Import Packages"
   ]
  },
  {
   "cell_type": "code",
   "execution_count": 2,
   "metadata": {},
   "outputs": [],
   "source": [
    "from datetime import datetime\n",
    "import numpy as np\n",
    "\n",
    "from pyspark.sql import SparkSession\n",
    "from pyspark.sql.functions import udf \n",
    "import pyspark.sql.functions as F\n",
    "from pyspark.sql.types import StringType\n",
    "\n",
    "import os\n",
    "os.chdir(project_dir)\n",
    "\n",
    "%matplotlib inline"
   ]
  },
  {
   "cell_type": "markdown",
   "metadata": {},
   "source": [
    "## Save Utility Fuctions\n",
    "\n",
    "The following cell defines utility functions. The cell after saves them to `preprocessing_sparkify.py`. The utility functions can then be imported and reused in the churn prediction code."
   ]
  },
  {
   "cell_type": "code",
   "execution_count": 3,
   "metadata": {},
   "outputs": [],
   "source": [
    "def get_value_counts(df, column, n=20):\n",
    "    \"\"\"Returns the n top value counts of a Pyspark dataframe column.\"\"\"\n",
    "    return df.groupBy(column).count().orderBy(\"count\", ascending=False).show(n, truncate=False)\n",
    "\n",
    "\n",
    "def get_nunique(df, column):\n",
    "    \"\"\"Returns the number of unique values in a Pyspark dataframe column.\"\"\"\n",
    "    return df.groupBy(column).count().sort(\"count\").count()\n",
    "\n",
    "\n",
    "def get_unique(df, column, n=20):\n",
    "    \"\"\"Returns the sorted top n unique values in a Pyspark dataframe column.\"\"\"\n",
    "    return df.select(column).dropDuplicates().orderBy(column).show(n, truncate=False)\n",
    "\n",
    "\n",
    "def dropna(df, column):\n",
    "    \"\"\"Removes missing and invalid records from a Pyspark dataframe.\"\"\"\n",
    "    df = df.filter((df[column].cast(StringType()) != \"\") & (df[column].isNotNull()))\n",
    "    return df\n",
    "\n",
    "\n",
    "def timestamp_to_date(df, column):\n",
    "    \"\"\"Assigns a new column 'date' from a timestamp column.\"\"\"\n",
    "    to_date = udf(lambda x: datetime.fromtimestamp(x / 1000).strftime(\"%Y-%m-%d\"))\n",
    "    df = df.withColumn(\"date\", to_date(df[column]))\n",
    "    return df\n",
    "\n",
    "\n",
    "def timestamp_to_weekday(df, column):\n",
    "    \"\"\"Assigns a new column 'weekday' from a timestamp column.\"\"\"\n",
    "    to_date = udf(lambda x: datetime.fromtimestamp(x / 1000).strftime(\"%A\"))\n",
    "    df = df.withColumn(\"weekday\", to_date(df[column]))\n",
    "    return df\n",
    "\n",
    "def preprocess_sparkify_data(df):\n",
    "    \"\"\"Preprocesses the sparkify dataframe for predicting churn.\"\"\"\n",
    "    df = dropna(df, \"userId\")\n",
    "    df = dropna(df, \"sessionId\")\n",
    "    df = df.withColumn(\"churn\", F.when(df[\"page\"] == \"Cancellation Confirmation\", 1).otherwise(0))\n",
    "    df = timestamp_to_date(df, column=\"ts\")\n",
    "    df = timestamp_to_weekday(df, column=\"ts\")\n",
    "    return df\n"
   ]
  },
  {
   "cell_type": "code",
   "execution_count": 4,
   "metadata": {},
   "outputs": [
    {
     "name": "stdout",
     "output_type": "stream",
     "text": [
      "Overwriting preprocessing_sparkify.py\n"
     ]
    }
   ],
   "source": [
    "%%writefile preprocessing_sparkify.py\n",
    "from datetime import datetime\n",
    "import pyspark.sql.functions as F\n",
    "from pyspark.sql.functions import udf \n",
    "from pyspark.sql.types import StringType\n",
    "\n",
    "\n",
    "def get_value_counts(df, column, n=20):\n",
    "    \"\"\"Returns the n top value counts of a Pyspark dataframe column.\"\"\"\n",
    "    return df.groupBy(column).count().orderBy(\"count\", ascending=False).show(n, truncate=False)\n",
    "\n",
    "\n",
    "def get_nunique(df, column):\n",
    "    \"\"\"Returns the number of unique values in a Pyspark dataframe column.\"\"\"\n",
    "    return df.groupBy(column).count().sort(\"count\").count()\n",
    "\n",
    "\n",
    "def get_unique(df, column, n=20):\n",
    "    \"\"\"Returns the sorted top n unique values in a Pyspark dataframe column.\"\"\"\n",
    "    return df.select(column).dropDuplicates().orderBy(column).show(n, truncate=False)\n",
    "\n",
    "\n",
    "def dropna(df, column):\n",
    "    \"\"\"Removes missing and invalid records from a Pyspark dataframe.\"\"\"\n",
    "    df = df.filter((df[column].cast(StringType()) != \"\") & (df[column].isNotNull()))\n",
    "    return df\n",
    "\n",
    "\n",
    "def timestamp_to_date(df, column):\n",
    "    \"\"\"Assigns a new column 'date' from a timestamp column.\"\"\"\n",
    "    to_date = udf(lambda x: datetime.fromtimestamp(x / 1000).strftime(\"%Y-%m-%d\"))\n",
    "    df = df.withColumn(\"date\", to_date(df[column]))\n",
    "    return df\n",
    "\n",
    "\n",
    "def timestamp_to_weekday(df, column):\n",
    "    \"\"\"Assigns a new column 'weekday' from a timestamp column.\"\"\"\n",
    "    to_date = udf(lambda x: datetime.fromtimestamp(x / 1000).strftime(\"%A\"))\n",
    "    df = df.withColumn(\"weekday\", to_date(df[column]))\n",
    "    return df\n",
    "\n",
    "def preprocess_sparkify_data(df):\n",
    "    \"\"\"Preprocesses the sparkify dataframe for predicting churn.\"\"\"\n",
    "    df = dropna(df, \"userId\")\n",
    "    df = dropna(df, \"sessionId\")\n",
    "    df = df.withColumn(\"churn\", F.when(df[\"page\"] == \"Cancellation Confirmation\", 1).otherwise(0))\n",
    "    df = timestamp_to_date(df, column=\"ts\")\n",
    "    df = timestamp_to_weekday(df, column=\"ts\")\n",
    "    return df\n"
   ]
  },
  {
   "cell_type": "markdown",
   "metadata": {},
   "source": [
    "## 1. Load Data<a name=\"load-data\"></a>"
   ]
  },
  {
   "cell_type": "code",
   "execution_count": 5,
   "metadata": {},
   "outputs": [],
   "source": [
    "df = spark.read.json(f\"gs://{bucket_name}/{file_path}\")"
   ]
  },
  {
   "cell_type": "markdown",
   "metadata": {},
   "source": [
    "## 2. Exploratory Data Analysis<a name=\"explore\"></a>\n",
    "\n",
    "### Data Overview"
   ]
  },
  {
   "cell_type": "code",
   "execution_count": 6,
   "metadata": {},
   "outputs": [
    {
     "data": {
      "text/plain": [
       "1087410"
      ]
     },
     "execution_count": 6,
     "metadata": {},
     "output_type": "execute_result"
    }
   ],
   "source": [
    "# number of events\n",
    "df.count()"
   ]
  },
  {
   "cell_type": "code",
   "execution_count": 7,
   "metadata": {},
   "outputs": [
    {
     "name": "stdout",
     "output_type": "stream",
     "text": [
      "root\n",
      " |-- artist: string (nullable = true)\n",
      " |-- auth: string (nullable = true)\n",
      " |-- firstName: string (nullable = true)\n",
      " |-- gender: string (nullable = true)\n",
      " |-- itemInSession: long (nullable = true)\n",
      " |-- lastName: string (nullable = true)\n",
      " |-- length: double (nullable = true)\n",
      " |-- level: string (nullable = true)\n",
      " |-- location: string (nullable = true)\n",
      " |-- method: string (nullable = true)\n",
      " |-- page: string (nullable = true)\n",
      " |-- registration: long (nullable = true)\n",
      " |-- sessionId: long (nullable = true)\n",
      " |-- song: string (nullable = true)\n",
      " |-- status: long (nullable = true)\n",
      " |-- ts: long (nullable = true)\n",
      " |-- userAgent: string (nullable = true)\n",
      " |-- userId: string (nullable = true)\n",
      "\n"
     ]
    }
   ],
   "source": [
    "# columns\n",
    "df.printSchema()"
   ]
  },
  {
   "cell_type": "code",
   "execution_count": 8,
   "metadata": {},
   "outputs": [
    {
     "name": "stdout",
     "output_type": "stream",
     "text": [
      "-RECORD 0-----------------------------\n",
      " artist        | Martin Orford        \n",
      " auth          | Logged In            \n",
      " firstName     | Joseph               \n",
      " gender        | M                    \n",
      " itemInSession | 20                   \n",
      " lastName      | Morales              \n",
      " length        | 597.55057            \n",
      " level         | free                 \n",
      " location      | Corpus Christi, TX   \n",
      " method        | PUT                  \n",
      " page          | NextSong             \n",
      " registration  | 1532063507000        \n",
      " sessionId     | 292                  \n",
      " song          | Grand Designs        \n",
      " status        | 200                  \n",
      " ts            | 1538352011000        \n",
      " userAgent     | \"Mozilla/5.0 (Mac... \n",
      " userId        | 293                  \n",
      "-RECORD 1-----------------------------\n",
      " artist        | John Brown's Body    \n",
      " auth          | Logged In            \n",
      " firstName     | Sawyer               \n",
      " gender        | M                    \n",
      " itemInSession | 74                   \n",
      " lastName      | Larson               \n",
      " length        | 380.21179            \n",
      " level         | free                 \n",
      " location      | Houston-The Woodl... \n",
      " method        | PUT                  \n",
      " page          | NextSong             \n",
      " registration  | 1538069638000        \n",
      " sessionId     | 97                   \n",
      " song          | Bulls                \n",
      " status        | 200                  \n",
      " ts            | 1538352025000        \n",
      " userAgent     | \"Mozilla/5.0 (Mac... \n",
      " userId        | 98                   \n",
      "only showing top 2 rows\n",
      "\n"
     ]
    }
   ],
   "source": [
    "# first two events\n",
    "df.show(n=2, truncate=True, vertical=True)"
   ]
  },
  {
   "cell_type": "code",
   "execution_count": 9,
   "metadata": {},
   "outputs": [],
   "source": [
    "df = timestamp_to_date(df, column=\"ts\")"
   ]
  },
  {
   "cell_type": "code",
   "execution_count": 10,
   "metadata": {},
   "outputs": [],
   "source": [
    "df_evolution = (\n",
    "    df\n",
    "    .groupBy(\"date\")\n",
    "    .count()\n",
    "    .orderBy(\"date\")\n",
    "    .toPandas()\n",
    ")"
   ]
  },
  {
   "cell_type": "code",
   "execution_count": 11,
   "metadata": {},
   "outputs": [
    {
     "data": {
      "image/png": "[encoded data removed]",
      "text/plain": [
       "<Figure size 720x432 with 1 Axes>"
      ]
     },
     "metadata": {
      "needs_background": "light"
     },
     "output_type": "display_data"
    }
   ],
   "source": [
    "ax = df_evolution.plot(\n",
    "    x=\"date\",\n",
    "    y=\"count\",\n",
    "    kind=\"line\",\n",
    "    figsize=(10, 6),\n",
    "    title=\"Sparkify: Number of events by day\",\n",
    "    legend=False,\n",
    "    color=\"#1f77b4\",\n",
    "    grid=True,\n",
    ")\n",
    "ax.set(xlabel=\"Date\", ylabel=\"Mean number of events\");"
   ]
  },
  {
   "cell_type": "markdown",
   "metadata": {},
   "source": [
    "#### Summary\n",
    "- The events were recorded between October 1, 2018 and November 30, 2018 (except for a few data points in early December 2018).\n",
    "\n",
    "#### Motivation\n",
    "- We should check for missing values in `page` and if necessary drop these records.\n",
    "- There is no overall trend in the data.\n",
    "- There is weekly seasonality: At the weekene, less events are tracked."
   ]
  },
  {
   "cell_type": "markdown",
   "metadata": {},
   "source": [
    "### Missing Values"
   ]
  },
  {
   "cell_type": "markdown",
   "metadata": {},
   "source": [
    "a) `sessionId`\n",
    "\n",
    "#### Motivation\n",
    "- We should check for missing values in `sessionId` and if necessary drop these records.\n",
    "- Non-identified sessions could be listed as `\"\"` or `null` or anything."
   ]
  },
  {
   "cell_type": "code",
   "execution_count": 12,
   "metadata": {},
   "outputs": [
    {
     "name": "stdout",
     "output_type": "stream",
     "text": [
      "+---------+-----+\n",
      "|sessionId|count|\n",
      "+---------+-----+\n",
      "|1052     |2012 |\n",
      "|2860     |1852 |\n",
      "|3425     |1798 |\n",
      "|4131     |1770 |\n",
      "|477      |1674 |\n",
      "+---------+-----+\n",
      "only showing top 5 rows\n",
      "\n"
     ]
    }
   ],
   "source": [
    "get_value_counts(df, \"sessionId\", n=5)"
   ]
  },
  {
   "cell_type": "code",
   "execution_count": 13,
   "metadata": {},
   "outputs": [
    {
     "data": {
      "text/plain": [
       "0"
      ]
     },
     "execution_count": 13,
     "metadata": {},
     "output_type": "execute_result"
    }
   ],
   "source": [
    "# invalid data in sessionId\n",
    "(df.filter((df[\"sessionId\"] == \"\") | (df[\"sessionId\"].isNull())).count())"
   ]
  },
  {
   "cell_type": "markdown",
   "metadata": {},
   "source": [
    "#### Summary\n",
    "- There are no sessions without a sessionId. ✔️"
   ]
  },
  {
   "cell_type": "markdown",
   "metadata": {},
   "source": [
    "b) `userId`\n",
    "\n",
    "#### Motivation\n",
    "- We should check for missing values in `userId` and if necessary drop these records.\n",
    "- Non-identified users could be listed as `\"\"` or `null` or anything."
   ]
  },
  {
   "cell_type": "code",
   "execution_count": 14,
   "metadata": {},
   "outputs": [
    {
     "name": "stdout",
     "output_type": "stream",
     "text": [
      "+------+-----+\n",
      "|userId|count|\n",
      "+------+-----+\n",
      "|      |31400|\n",
      "|92    |19534|\n",
      "|140   |14896|\n",
      "|300049|14618|\n",
      "|101   |13684|\n",
      "+------+-----+\n",
      "only showing top 5 rows\n",
      "\n"
     ]
    }
   ],
   "source": [
    "get_value_counts(df, \"userId\", n=5)"
   ]
  },
  {
   "cell_type": "code",
   "execution_count": 15,
   "metadata": {},
   "outputs": [
    {
     "data": {
      "text/plain": [
       "31400"
      ]
     },
     "execution_count": 15,
     "metadata": {},
     "output_type": "execute_result"
    }
   ],
   "source": [
    "# invalid data in sessionId\n",
    "(df.filter((df[\"userId\"] == \"\") | (df[\"userId\"].isNull())).count())"
   ]
  },
  {
   "cell_type": "code",
   "execution_count": 16,
   "metadata": {},
   "outputs": [],
   "source": [
    "df = dropna(df, \"userId\")"
   ]
  },
  {
   "cell_type": "code",
   "execution_count": 17,
   "metadata": {},
   "outputs": [
    {
     "data": {
      "text/plain": [
       "0"
      ]
     },
     "execution_count": 17,
     "metadata": {},
     "output_type": "execute_result"
    }
   ],
   "source": [
    "# invalid data in sessionId\n",
    "(df.filter((df[\"userId\"] == \"\") | (df[\"userId\"].isNull())).count())"
   ]
  },
  {
   "cell_type": "markdown",
   "metadata": {},
   "source": [
    "#### Summary\n",
    "- There were 31,400 records without `userId`.\n",
    "- Those turn out to be unknown users which are just gathering information on the website, as the value counts show.\n",
    "- Since they add no value to this analysis, they were dropped from the data. ✔️"
   ]
  },
  {
   "cell_type": "markdown",
   "metadata": {},
   "source": [
    "c) `page`\n",
    "\n",
    "#### Motivation\n",
    "- We should check for missing values in `page` and if necessary drop these records."
   ]
  },
  {
   "cell_type": "code",
   "execution_count": 18,
   "metadata": {},
   "outputs": [
    {
     "name": "stdout",
     "output_type": "stream",
     "text": [
      "+-------------------------+------+\n",
      "|page                     |count |\n",
      "+-------------------------+------+\n",
      "|NextSong                 |865754|\n",
      "|Thumbs Up                |47652 |\n",
      "|Home                     |38178 |\n",
      "|Add to Playlist          |24698 |\n",
      "|Add Friend               |16174 |\n",
      "|Roll Advert              |15546 |\n",
      "|Logout                   |11980 |\n",
      "|Thumbs Down              |9822  |\n",
      "|Downgrade                |7622  |\n",
      "|Settings                 |5928  |\n",
      "|Help                     |5288  |\n",
      "|About                    |2052  |\n",
      "|Upgrade                  |1936  |\n",
      "|Save Settings            |1170  |\n",
      "|Error                    |1006  |\n",
      "|Submit Upgrade           |574   |\n",
      "|Submit Downgrade         |234   |\n",
      "|Cancel                   |198   |\n",
      "|Cancellation Confirmation|198   |\n",
      "+-------------------------+------+\n",
      "\n"
     ]
    }
   ],
   "source": [
    "get_value_counts(df, \"page\")"
   ]
  },
  {
   "cell_type": "markdown",
   "metadata": {},
   "source": [
    "#### Summary\n",
    "\n",
    "- There are no records without a page. ✔️\n",
    "- Pages correlated with customer activity could be:\n",
    "    - 'Thumbs Up'\n",
    "    - 'Add to Playlist'\n",
    "    - 'Add Friend'\n",
    "    - 'Upgrade'\n",
    "    - 'Submit Upgrade'"
   ]
  },
  {
   "cell_type": "markdown",
   "metadata": {},
   "source": [
    "### Definition of Churn\n",
    "\n",
    "- After having done some preliminary analysis, a column `churn` to use as the label for the prediction model will be created.\n",
    "- One option is using the `Cancellation Confirmation` events to define churn, which happen for both paid and free users."
   ]
  },
  {
   "cell_type": "code",
   "execution_count": 19,
   "metadata": {},
   "outputs": [],
   "source": [
    "df = df.withColumn(\"churn\", F.when(df[\"page\"] == \"Cancellation Confirmation\", 1).otherwise(0))"
   ]
  },
  {
   "cell_type": "code",
   "execution_count": 20,
   "metadata": {},
   "outputs": [
    {
     "name": "stdout",
     "output_type": "stream",
     "text": [
      "+-----+-------+\n",
      "|churn|count  |\n",
      "+-----+-------+\n",
      "|0    |1055812|\n",
      "|1    |198    |\n",
      "+-----+-------+\n",
      "\n"
     ]
    }
   ],
   "source": [
    "get_value_counts(df, \"churn\")"
   ]
  },
  {
   "cell_type": "code",
   "execution_count": 21,
   "metadata": {},
   "outputs": [
    {
     "data": {
      "text/plain": [
       "448"
      ]
     },
     "execution_count": 21,
     "metadata": {},
     "output_type": "execute_result"
    }
   ],
   "source": [
    "get_nunique(df, \"userId\")"
   ]
  },
  {
   "cell_type": "markdown",
   "metadata": {},
   "source": [
    "#### Summary\n",
    "- The data seemed to be highly imbalanced first.\n",
    "- However, the 1,056,010 Sparkify events come from only 448 unique users and 198 of them have churned."
   ]
  },
  {
   "cell_type": "markdown",
   "metadata": {},
   "source": [
    "### Data Visualization\n",
    "\n",
    "This section is about performing data visualization, mainly with the goal to observe the behavior for users who stayed vs users who churned. The following hypotheses were used to steer data visualization below.\n",
    "\n",
    "- The probability of churning could be lower for users which\n",
    "    - have been using Sparkify longer,\n",
    "    - are more active when they use Sparkify (like songs, add songs to playlists, add friends to Sparkify, etc.),\n",
    "    - have never before visited the unsubscribe page,\n",
    "    - have been observed in more unique sessions,\n",
    "    - have had more overall interactions with Sparkify.\n",
    "    \n",
    "### Business Questions\n",
    "\n",
    "3.1 What is the mean number of songs played by group?<br>\n",
    "3.2 What is the mean number of events by group?<br>\n",
    "3.3 When do users churn?<br>\n",
    "3.4 Which share of events is GET vs. PUT?<br>"
   ]
  },
  {
   "cell_type": "markdown",
   "metadata": {},
   "source": [
    "#### 1. What is the mean number of songs played by group?\n",
    "\n",
    "Users who do not churn are expected to stream more songs from the Sparkify service. The mean number of songs played are thus expected to be different between customers who churn and customers who do not churn. "
   ]
  },
  {
   "cell_type": "code",
   "execution_count": 22,
   "metadata": {},
   "outputs": [],
   "source": [
    "df_user_info = (\n",
    "    df.groupBy(\"userId\")\n",
    "    .agg({\"churn\": \"max\", \"sessionId\": \"count\", \"song\": \"count\"})\n",
    "    .groupBy(\"max(churn)\")\n",
    "    .agg({\"count(sessionId)\": \"mean\", \"count(song)\": \"mean\"})\n",
    "    .toDF(\"has_churned\", \"num_songs\", \"num_interactions\")\n",
    "    .toPandas()\n",
    ")"
   ]
  },
  {
   "cell_type": "code",
   "execution_count": 23,
   "metadata": {},
   "outputs": [
    {
     "data": {
      "image/png": "[encoded data removed]",
      "text/plain": [
       "<Figure size 720x576 with 1 Axes>"
      ]
     },
     "metadata": {
      "needs_background": "light"
     },
     "output_type": "display_data"
    }
   ],
   "source": [
    "ax = df_user_info.plot(\n",
    "    x=\"has_churned\",\n",
    "    y=\"num_songs\",\n",
    "    kind=\"bar\",\n",
    "    figsize=(10,8),\n",
    "    title=\"Sparkify: Mean number of songs by group\",\n",
    "    legend=False,\n",
    "    color=\"#1f77b4\",\n",
    ")\n",
    "ax.set(xlabel=\"Has churned\", ylabel=\"Mean number of songs\");"
   ]
  },
  {
   "cell_type": "markdown",
   "metadata": {},
   "source": [
    "#### Summary\n",
    "- Users who churn have on average played less songs than users who do not churn (1,704 vs. 1,997)."
   ]
  },
  {
   "cell_type": "markdown",
   "metadata": {},
   "source": [
    "#### 2. What is the mean number of events by group?\n",
    "\n",
    "Similar to the mean number of songs played, users who do not churn are expected to show more general activity on the Sparkify platform. A similar pattern as shown above is expected with respect to the number of interactions."
   ]
  },
  {
   "cell_type": "code",
   "execution_count": 24,
   "metadata": {},
   "outputs": [
    {
     "data": {
      "image/png": "[encoded data removed]",
      "text/plain": [
       "<Figure size 720x576 with 1 Axes>"
      ]
     },
     "metadata": {
      "needs_background": "light"
     },
     "output_type": "display_data"
    }
   ],
   "source": [
    "ax = df_user_info.plot(\n",
    "    x=\"has_churned\",\n",
    "    y=\"num_interactions\",\n",
    "    kind=\"bar\",\n",
    "    figsize=(10,8),\n",
    "    title=\"Sparkify: Mean number of events by group\",\n",
    "    legend=False,\n",
    "    color=\"#1f77b4\",\n",
    ")\n",
    "ax.set(xlabel=\"Has churned\", ylabel=\"Mean number of events\");"
   ]
  },
  {
   "cell_type": "markdown",
   "metadata": {},
   "source": [
    "#### Summary\n",
    "- Users who churn show less activity in total than users who do not churn (2,094 vs. 2,432)."
   ]
  },
  {
   "cell_type": "markdown",
   "metadata": {},
   "source": [
    "#### 3. When do users churn?\n",
    "\n",
    "#### Motivation\n",
    "\n",
    "There may be a pattern in when users churn. Even though this is rather an external factor, it will help understanding business and churn preventions may be more intense on those days."
   ]
  },
  {
   "cell_type": "code",
   "execution_count": 25,
   "metadata": {},
   "outputs": [],
   "source": [
    "df = timestamp_to_weekday(df, column=\"ts\")"
   ]
  },
  {
   "cell_type": "code",
   "execution_count": 26,
   "metadata": {},
   "outputs": [],
   "source": [
    "df_churn_days = (\n",
    "    df\n",
    "    .groupBy(\"weekday\")\n",
    "    .agg({\n",
    "        \"churn\": \"sum\",\n",
    "        \"sessionId\": \"count\",\n",
    "    })\n",
    "    .toPandas()\n",
    ")"
   ]
  },
  {
   "cell_type": "code",
   "execution_count": 27,
   "metadata": {},
   "outputs": [],
   "source": [
    "weekdays = ['Monday', 'Tuesday', 'Wednesday', 'Thursday', 'Friday', 'Saturday', 'Sunday']\n",
    "df_churn_days = df_churn_days.set_index(\"weekday\").loc[weekdays].reset_index()"
   ]
  },
  {
   "cell_type": "code",
   "execution_count": 28,
   "metadata": {},
   "outputs": [
    {
     "data": {
      "image/png": "[encoded data removed]",
      "text/plain": [
       "<Figure size 720x576 with 1 Axes>"
      ]
     },
     "metadata": {
      "needs_background": "light"
     },
     "output_type": "display_data"
    }
   ],
   "source": [
    "ax = df_churn_days.plot(\n",
    "    x=\"weekday\",\n",
    "    y=\"sum(churn)\",\n",
    "    kind=\"bar\",\n",
    "    figsize=(10,8),\n",
    "    title=\"Sparkify: Mean number of churns by weekday\",\n",
    "    legend=False,\n",
    "    color=\"#1f77b4\",\n",
    ")\n",
    "ax.set(xlabel=\"Weekday\", ylabel=\"Mean number of churns\");"
   ]
  },
  {
   "cell_type": "code",
   "execution_count": 29,
   "metadata": {},
   "outputs": [
    {
     "data": {
      "image/png": "[encoded data removed]",
      "text/plain": [
       "<Figure size 720x576 with 1 Axes>"
      ]
     },
     "metadata": {
      "needs_background": "light"
     },
     "output_type": "display_data"
    }
   ],
   "source": [
    "ax = df_churn_days.plot(\n",
    "    x=\"weekday\",\n",
    "    y=\"count(sessionId)\",\n",
    "    kind=\"bar\",\n",
    "    figsize=(10,8),\n",
    "    title=\"Sparkify: Mean number of events by weekday\",\n",
    "    legend=False,\n",
    "    color=\"#1f77b4\",\n",
    ")\n",
    "ax.set(xlabel=\"Weekday\", ylabel=\"Mean number of events\");"
   ]
  },
  {
   "cell_type": "markdown",
   "metadata": {},
   "source": [
    "#### Summary\n",
    "- There is not an obvious pattern depending on the weekday.\n",
    "- Less people seem to churn at the weekend, but weekends are also least busy in terms of music streaming."
   ]
  },
  {
   "cell_type": "markdown",
   "metadata": {},
   "source": [
    "#### 4. Which share of events is GET vs. PUT?\n",
    "\n",
    "#### Motivation\n",
    "\n",
    "- PUT events may be related to a higher user activity. To see whether this could be a useful feature, understanding the share of PUT and GET events will be key."
   ]
  },
  {
   "cell_type": "code",
   "execution_count": 30,
   "metadata": {},
   "outputs": [],
   "source": [
    "df_method = (\n",
    "    df\n",
    "    .groupBy(\"method\")\n",
    "    .count()\n",
    "    .orderBy(\"count\", ascending=False)\n",
    "    .toPandas()\n",
    ")"
   ]
  },
  {
   "cell_type": "code",
   "execution_count": 31,
   "metadata": {},
   "outputs": [
    {
     "data": {
      "image/png": "[encoded data removed]",
      "text/plain": [
       "<Figure size 576x576 with 1 Axes>"
      ]
     },
     "metadata": {},
     "output_type": "display_data"
    }
   ],
   "source": [
    "ax = df_method.set_index(\"method\").plot(\n",
    "    x=\"index\",\n",
    "    y=\"count\",\n",
    "    kind=\"pie\",\n",
    "    figsize=(8,8),\n",
    "    title=\"Sparkify: GET vs. PUT events\",\n",
    "    legend=[\"PUT\", \"Get\"],\n",
    "    yticks=None,\n",
    "    use_index=False,\n",
    "    colors=[\"#1f77b4\", \"#bad6eb\"],\n",
    ")\n",
    "ax.axis(\"off\");"
   ]
  },
  {
   "cell_type": "markdown",
   "metadata": {},
   "source": [
    "#### Summary\n",
    "\n",
    "- While the majority of events are PUT - clicking on \"Next Song\" is accounts for most of the events, as shown above - 7.36% of the 1,056,010 events are GET features. This may influence whether or not users churn."
   ]
  },
  {
   "cell_type": "code",
   "execution_count": null,
   "metadata": {},
   "outputs": [],
   "source": []
  }
 ],
 "metadata": {
  "kernelspec": {
   "display_name": "PySpark",
   "language": "python",
   "name": "pyspark"
  },
  "language_info": {
   "codemirror_mode": {
    "name": "ipython",
    "version": 3
   },
   "file_extension": ".py",
   "mimetype": "text/x-python",
   "name": "python",
   "nbconvert_exporter": "python",
   "pygments_lexer": "ipython3",
   "version": "3.7.4"
  }
 },
 "nbformat": 4,
 "nbformat_minor": 4
}
