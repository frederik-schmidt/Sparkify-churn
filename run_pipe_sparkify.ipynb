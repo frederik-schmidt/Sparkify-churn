{
 "cells": [
  {
   "cell_type": "markdown",
   "metadata": {},
   "source": [
    "# Sparkify Churn Prediction\n",
    "\n",
    "After the data has been explored, preprocessed (e.g. by removing records from unknown users), and visualized in `run_exploratory_data_analysis.ipynb`, this notebook contains a feature engineering and churn prediction approach. Please note that setting up the PySpark cluster in the cloud and building the ML pipeline was the focus of the project. Feature engineering was done rather quick and definitely leaves potential for improving  the results.\n",
    "\n",
    "Please note that we will not work with the original Sparkify dataset (12GB) in this project but a medium-sizes subset (462MB). This is because I wanted to implement the Sparkify pipeline on Google Cloud Platform (GCP). The original dataset is stored on Amazon's S3 though and the way it is configured does not allow to easily transfer it to GCP. If so, the pipeline could easily be scaled up and re-executed with the original dataset.\n",
    "\n",
    "## Requirements\n",
    "\n",
    "1. The notebook must be executed from GCP so it can access Cloud Storage.\n",
    "2. The notebook must be executed from a PySpark kernel.\n",
    "\n",
    "## Content\n",
    "\n",
    "This notebook contains the following steps:\n",
    "\n",
    "1. [Load & Preprocess Data](#load-data)\n",
    "2. [Feature Engineering](#feature-engineering)\n",
    "3. [Machine Learning Pipeline](#pipeline)\n",
    "4. [Conclusion](#conclusion)"
   ]
  },
  {
   "cell_type": "code",
   "execution_count": 1,
   "metadata": {},
   "outputs": [],
   "source": [
    "project_dir = \"/home/Sparkify-churn\"\n",
    "bucket_name = \"pyspark-cluster-202205\"\n",
    "file_path = \"data/medium_sparkify_event_data.json\""
   ]
  },
  {
   "cell_type": "markdown",
   "metadata": {},
   "source": [
    "## Import Packages"
   ]
  },
  {
   "cell_type": "code",
   "execution_count": 2,
   "metadata": {},
   "outputs": [],
   "source": [
    "import time\n",
    "import numpy as np\n",
    "\n",
    "from pyspark.sql import SparkSession\n",
    "import pyspark.sql.functions as F\n",
    "from pyspark.sql.functions import udf \n",
    "from pyspark.sql.types import FloatType\n",
    "from pyspark.ml import Pipeline\n",
    "from pyspark.ml.classification import LogisticRegression, RandomForestClassifier, GBTClassifier, NaiveBayes\n",
    "from pyspark.ml.tuning import CrossValidator, ParamGridBuilder\n",
    "from pyspark.ml.feature import VectorAssembler, Normalizer, MinMaxScaler, StringIndexer\n",
    "from pyspark.ml.evaluation import MulticlassClassificationEvaluator\n",
    "from pyspark.mllib.evaluation import MulticlassMetrics\n",
    "\n",
    "import os\n",
    "os.chdir(project_dir)\n",
    "from preprocessing_sparkify import preprocess_sparkify_data\n",
    "\n",
    "%matplotlib inline"
   ]
  },
  {
   "cell_type": "markdown",
   "metadata": {},
   "source": [
    "## 1. Load & Preprocess Data<a name=\"load-data\"></a>\n",
    "\n",
    "The preprocessing steps have been explored in `run_exploratory_data_analysis.ipynb` and the code has been saved to `preprocessing_sparkify.py`.\n",
    "\n",
    "In detail, preprocessing contains:\n",
    "1. Removal of records with missing values in the columns `sessionId` and `userId`\n",
    "2. Creation of a binary column `churn` for every record (1 if `page` = `Cancellation Confirmation`, 0 otherwise)\n",
    "3. Creation of binary column `gender` for every user (0 if `gender` = \"F\", 1 if `gender` = \"M\")\n",
    "4. Creation of columns `date` and `weekday` from the timestamp of an event stored in column `ts`"
   ]
  },
  {
   "cell_type": "code",
   "execution_count": 3,
   "metadata": {},
   "outputs": [],
   "source": [
    "df = spark.read.json(f\"gs://{bucket_name}/{file_path}\")"
   ]
  },
  {
   "cell_type": "code",
   "execution_count": 4,
   "metadata": {},
   "outputs": [],
   "source": [
    "df = preprocess_sparkify_data(df)"
   ]
  },
  {
   "cell_type": "markdown",
   "metadata": {},
   "source": [
    "## 2. Feature Engineering<a name=\"feature-engineering\"></a>"
   ]
  },
  {
   "cell_type": "code",
   "execution_count": 5,
   "metadata": {},
   "outputs": [],
   "source": [
    "df.createOrReplaceTempView(\"sparkify\")"
   ]
  },
  {
   "cell_type": "code",
   "execution_count": 6,
   "metadata": {},
   "outputs": [
    {
     "name": "stdout",
     "output_type": "stream",
     "text": [
      "+-------+------+--------+-------------------+------------+--------------------+------------------+-----+\n",
      "|user_id|gender|sessions|   sessions_per_day|interactions|interactions_per_day|   activity_factor|label|\n",
      "+-------+------+--------+-------------------+------------+--------------------+------------------+-----+\n",
      "| 100010|     0|       2|                0.5|         274|                68.5|0.7956204379562044|    1|\n",
      "| 200002|     1|       5|0.16666666666666666|         790|  26.333333333333332|0.8886075949367088|    1|\n",
      "|    296|     0|       5| 0.5555555555555556|         304|   33.77777777777778|0.8552631578947368|    1|\n",
      "|    125|     1|       3|0.06666666666666667|         168|  3.7333333333333334|0.8452380952380952|    0|\n",
      "|    124|     0|      17|0.40476190476190477|        4312|  102.66666666666667|0.9438775510204082|    1|\n",
      "|     51|     1|       5|             0.3125|         656|                41.0|0.9176829268292683|    1|\n",
      "|      7|     1|      15|0.25862068965517243|        1200|  20.689655172413794|             0.855|    0|\n",
      "| 200037|     1|       7| 0.4117647058823529|         310|  18.235294117647058|0.8838709677419355|    1|\n",
      "|    169|     1|       8|0.13333333333333333|         298|   4.966666666666667|0.8389261744966443|    0|\n",
      "|    205|     0|       5|0.10204081632653061|        2488|  50.775510204081634|0.9429260450160771|    0|\n",
      "|    272|     0|       2|0.16666666666666666|         262|  21.833333333333332|0.8625954198473282|    0|\n",
      "|     15|     1|      18|              0.375|        4346|   90.54166666666667|0.9447768062586286|    0|\n",
      "|    232|     0|      23| 0.3770491803278688|        4650|   76.22950819672131|0.9165591397849462|    0|\n",
      "|    234|     1|      26| 0.8387096774193549|        4042|  130.38709677419354|0.9307273626917367|    1|\n",
      "|    282|     1|      29|0.48333333333333334|        6382|  106.36666666666666|0.9319962394233783|    0|\n",
      "|     54|     0|       8|                1.0|        1248|               156.0|0.9471153846153846|    1|\n",
      "|    155|     0|       4|               0.16|         344|               13.76|0.9069767441860465|    0|\n",
      "| 200043|     0|      12| 0.2608695652173913|        1616|  35.130434782608695|0.8910891089108911|    0|\n",
      "| 100014|     1|       4|0.21052631578947367|         812|   42.73684210526316|0.9113300492610837|    1|\n",
      "|    132|     0|       2| 0.2857142857142857|         288|  41.142857142857146|0.8958333333333334|    1|\n",
      "|    154|     1|       4|                0.5|         252|                31.5| 0.873015873015873|    1|\n",
      "|    200|     1|       2| 0.6666666666666666|         408|               136.0|0.9264705882352942|    1|\n",
      "| 300027|     0|       7|0.14893617021276595|         732|  15.574468085106384|0.8633879781420765|    0|\n",
      "|    101|     1|      53| 0.8688524590163934|       13684|    224.327868852459| 0.945191464484069|    0|\n",
      "|     11|     0|       6|0.11764705882352941|         528|  10.352941176470589|0.8560606060606061|    1|\n",
      "|    279|     0|       9|             0.1875|        1240|  25.833333333333332|0.9016129032258065|    0|\n",
      "|    138|     1|      14|0.23333333333333334|        1152|                19.2|0.8576388888888888|    0|\n",
      "| 300017|     0|      71| 1.1639344262295082|       10532|  172.65573770491804|0.9454994303076338|    0|\n",
      "| 100021|     1|       9|                0.2|        1708|  37.955555555555556|0.8946135831381733|    0|\n",
      "|     29|     1|      39|  0.639344262295082|        4700|   77.04918032786885|0.9093617021276595|    0|\n",
      "|     69|     0|      12| 0.2608695652173913|        1368|   29.73913043478261|0.9035087719298246|    0|\n",
      "|    112|     1|       9|             0.1875|         822|              17.125|0.8856447688564477|    0|\n",
      "| 300033|     0|       3| 0.2727272727272727|         852|   77.45454545454545|0.9530516431924883|    0|\n",
      "|     42|     0|      52| 0.8524590163934426|        9904|  162.36065573770492|0.9186187399030694|    0|\n",
      "|     73|     0|      13|0.22033898305084745|         614|   10.40677966101695|0.8599348534201955|    0|\n",
      "|     87|     1|      64| 1.0491803278688525|       10486|   171.9016393442623|0.9305740987983978|    0|\n",
      "| 200010|     0|       5|              0.125|         388|                 9.7|0.8711340206185567|    0|\n",
      "|     64|     1|       3|0.07692307692307693|          88|  2.2564102564102564|0.7727272727272727|    0|\n",
      "|      3|     1|       1|                1.0|          50|                50.0|              0.96|    0|\n",
      "| 300035|     0|      88| 1.4426229508196722|       13620|  223.27868852459017|0.9455212922173275|    0|\n",
      "+-------+------+--------+-------------------+------------+--------------------+------------------+-----+\n",
      "only showing top 40 rows\n",
      "\n"
     ]
    }
   ],
   "source": [
    "df_model = spark.sql(\"\"\"\n",
    "    with sparkify_agged as (\n",
    "        select\n",
    "            userId as user_id,\n",
    "            max(churn) as has_churned,\n",
    "            min(date) as min_date,\n",
    "            max(date) as max_date,\n",
    "            datediff(date_add(max(date), 1), min(date)) as days_active,\n",
    "            count(distinct sessionId) as sessions,\n",
    "            count(sessionId) as interactions,\n",
    "            max(case when gender = 'M' then 1 when gender = 'F' then 0 end) as gender,\n",
    "            sum(case when method = 'PUT' then 1 else 0 end) / count(method) as activity_factor\n",
    "        from sparkify\n",
    "        group by userId\n",
    "    )\n",
    "    select\n",
    "        user_id,\n",
    "        gender,\n",
    "        sessions,\n",
    "        sessions / days_active as sessions_per_day,\n",
    "        interactions,\n",
    "        interactions / days_active as interactions_per_day,\n",
    "        activity_factor,\n",
    "        has_churned as label\n",
    "    from sparkify_agged\n",
    "\"\"\")\n",
    "df_model.show(40)"
   ]
  },
  {
   "cell_type": "code",
   "execution_count": 7,
   "metadata": {},
   "outputs": [
    {
     "data": {
      "text/plain": [
       "448"
      ]
     },
     "execution_count": 7,
     "metadata": {},
     "output_type": "execute_result"
    }
   ],
   "source": [
    "df_model.count()"
   ]
  },
  {
   "cell_type": "markdown",
   "metadata": {},
   "source": [
    "## 3. Machine Learning Pipeline<a name=\"pipeline\"></a>\n",
    "\n",
    "The ML pipeline contains the following steps:\n",
    "\n",
    "3.1 Train Test Split<br>\n",
    "3.2 Definition of Transformers and Estimators<br>\n",
    "3.3 Creation of ML Pipeline<br>\n",
    "3.4 Model Training using Cross-Validation<br>\n",
    "3.5 Model Evaluation<br>\n",
    "\n",
    ", and validation sets. Test out several of the machine learning methods you learned. Evaluate the accuracy of the various models, tuning parameters as necessary. Determine your winning model based on test accuracy and report results on the validation set. Since the churned users are a fairly small subset, I suggest using F1 score as the metric to optimize."
   ]
  },
  {
   "cell_type": "markdown",
   "metadata": {},
   "source": [
    "### 3.1 Train Test Split\n",
    "\n",
    "The input data will be randomly split into 80% for training and 20% for testing the model. Since cross-validation will be run on the training, there is no need to create a validation set."
   ]
  },
  {
   "cell_type": "code",
   "execution_count": 8,
   "metadata": {},
   "outputs": [],
   "source": [
    "# split data into training and test set\n",
    "train, test = df_model.randomSplit([0.8, 0.2], seed=42)"
   ]
  },
  {
   "cell_type": "code",
   "execution_count": 9,
   "metadata": {},
   "outputs": [
    {
     "data": {
      "text/plain": [
       "(362, 86)"
      ]
     },
     "execution_count": 9,
     "metadata": {},
     "output_type": "execute_result"
    }
   ],
   "source": [
    "train.count(), test.count()"
   ]
  },
  {
   "cell_type": "markdown",
   "metadata": {},
   "source": [
    "### 3.2 Definition of Transformers and Estimators\n",
    "\n",
    "For an ML task, numeric features should be scaled or normalized to make sure they are in the same range. Otherwise, some features could dominate the results. There are multiple ways to achieve this in PySpark: Normalizer, StandardScaler or MinMaxScaler. Here, I will use the Normalizer. In PySpark, all these functions require vectors as an input. This is why VectorAssembler has to be applied first."
   ]
  },
  {
   "cell_type": "code",
   "execution_count": 10,
   "metadata": {},
   "outputs": [],
   "source": [
    "features = df_model.columns[1:-1]"
   ]
  },
  {
   "cell_type": "code",
   "execution_count": 11,
   "metadata": {},
   "outputs": [],
   "source": [
    "# transformers\n",
    "assembler = VectorAssembler(inputCols=features, outputCol=\"feature_vector\")  # put features into a vector\n",
    "scaler = Normalizer(inputCol=\"feature_vector\", outputCol=\"features\")  # normalize features"
   ]
  },
  {
   "cell_type": "markdown",
   "metadata": {},
   "source": [
    "In this and many other contexts, churn prediction is a binary classification task. PySpark's ML library offers multiple learning algorithms for classification. After having run first tests, Random Forest Classifiers and Gradient-Boosted Trees turned out to outperform Logistic Regression. This is why the focus will be on these two learning algorithms in this project."
   ]
  },
  {
   "cell_type": "code",
   "execution_count": 12,
   "metadata": {},
   "outputs": [],
   "source": [
    "# estimators\n",
    "rf = RandomForestClassifier(featuresCol=\"features\", labelCol=\"label\", seed=42)\n",
    "gbt = GBTClassifier(featuresCol=\"features\", labelCol=\"label\", seed=42)"
   ]
  },
  {
   "cell_type": "markdown",
   "metadata": {},
   "source": [
    "### 3.3 Creation of ML Pipeline\n",
    "\n",
    "When it comes to creating the ML pipeline, PySpark's Pipeline and ParamGridBuilder objects come in handy. Pipeline allows to put stages of the model together. ParamGridBuilder allows to test multiple models with different parameters."
   ]
  },
  {
   "cell_type": "code",
   "execution_count": 13,
   "metadata": {},
   "outputs": [],
   "source": [
    "# initialize an empty pipeline\n",
    "pipeline = Pipeline(stages=[])"
   ]
  },
  {
   "cell_type": "code",
   "execution_count": 14,
   "metadata": {},
   "outputs": [],
   "source": [
    "# create a ParamGridBuilder to construct a grid of parameters to search over\n",
    "param_grid_rf = (\n",
    "    ParamGridBuilder()\n",
    "    .baseOn({pipeline.stages: [assembler, scaler, rf]})\n",
    "    .addGrid(rf.numTrees, [10, 20, 30])\n",
    "    .addGrid(rf.featureSubsetStrategy, [\"onethird\", \"sqrt\"])  # number of features to consider for splits at each tree node\n",
    "    .build()\n",
    ")\n",
    "\n",
    "param_grid_gbt = (\n",
    "    ParamGridBuilder()\n",
    "    .baseOn({pipeline.stages: [assembler, scaler, gbt]})\n",
    "    .addGrid(gbt.maxDepth, [5, 10, 15])\n",
    "    .addGrid(gbt.featureSubsetStrategy, [\"onethird\", \"sqrt\"])  # number of features to consider for splits at each tree node\n",
    "    .build()\n",
    ")\n",
    "\n",
    "param_grids = param_grid_rf + param_grid_gbt"
   ]
  },
  {
   "cell_type": "markdown",
   "metadata": {},
   "source": [
    "### 3.4 Model Training using Cross-Validation\n",
    "\n",
    "The most common ways to evaluate a classification task are Accuracy, Precision, Recall and F1 Score. In this project, the performance will be optimized with respect to the F1 Score since the churned users are a fairly small subset. The pipeline and the parameter grids run together in PySpark's CrossValidator object, which runs 5-fold cross-validation while training the different models and evaluates which respect to the desired metric, here F1 Score."
   ]
  },
  {
   "cell_type": "code",
   "execution_count": 15,
   "metadata": {},
   "outputs": [],
   "source": [
    "evaluator = MulticlassClassificationEvaluator(predictionCol=\"prediction\", labelCol=\"label\", metricName=\"f1\")"
   ]
  },
  {
   "cell_type": "code",
   "execution_count": 16,
   "metadata": {},
   "outputs": [],
   "source": [
    "crossval = CrossValidator(\n",
    "    estimator=pipeline,\n",
    "    estimatorParamMaps=param_grids,\n",
    "    evaluator=evaluator,\n",
    "    numFolds=5,  # use 3+ folds in practice\n",
    "    parallelism=4,\n",
    ")"
   ]
  },
  {
   "cell_type": "code",
   "execution_count": null,
   "metadata": {},
   "outputs": [
    {
     "name": "stdout",
     "output_type": "stream",
     "text": [
      "--- Execution time: 9638.14 seconds ---\n"
     ]
    }
   ],
   "source": [
    "start_time = time.time()\n",
    "cv_model = crossval.fit(train)\n",
    "end_time = time.time()\n",
    "\n",
    "print(f\"--- Execution time: {round(end_time-start_time, 2)} seconds ---\")"
   ]
  },
  {
   "cell_type": "markdown",
   "metadata": {},
   "source": [
    "### 3.5 Model Evaluation"
   ]
  },
  {
   "cell_type": "code",
   "execution_count": 18,
   "metadata": {
    "scrolled": true
   },
   "outputs": [
    {
     "data": {
      "text/plain": [
       "[0.8382899549962829,\n",
       " 0.8308256086540726,\n",
       " 0.8389025463551323,\n",
       " 0.8421254610363267,\n",
       " 0.842621234151868,\n",
       " 0.8321941628971747,\n",
       " 0.8091890612799251,\n",
       " 0.7889585496670775,\n",
       " 0.8063956501232179,\n",
       " 0.7657218011664128,\n",
       " 0.798456238378688,\n",
       " 0.7626007853714708]"
      ]
     },
     "execution_count": 18,
     "metadata": {},
     "output_type": "execute_result"
    }
   ],
   "source": [
    "cv_model.avgMetrics"
   ]
  },
  {
   "cell_type": "markdown",
   "metadata": {},
   "source": [
    "#### Summary of all trained models"
   ]
  },
  {
   "cell_type": "code",
   "execution_count": 19,
   "metadata": {},
   "outputs": [],
   "source": [
    "# generate column names for results table\n",
    "num_params = len(cv_model.getEstimatorParamMaps()[0])\n",
    "columns = [f\"param_{i+1}\" for i in range(num_params)] + [\"metric\"]"
   ]
  },
  {
   "cell_type": "code",
   "execution_count": 20,
   "metadata": {},
   "outputs": [],
   "source": [
    "# extract values for results table\n",
    "values = []\n",
    "cv_params = list(cv_model.getEstimatorParamMaps())\n",
    "for idx_1, model in enumerate(cv_params):\n",
    "    \n",
    "    # create a list with key value pairs for every parameter\n",
    "    model_values = []\n",
    "    for items in list(model.items()):        \n",
    "        param = items[0].name\n",
    "        value = items[1]\n",
    "        if isinstance(value, list):\n",
    "            value = [str(v).split(\"_\")[0] for v in value]  # remove suffix from e.g. \"VectorAssembler_3fddb46bbd9e\"\n",
    "        model_value = {param: value}\n",
    "        model_values.append(str(model_value))\n",
    "        \n",
    "    # add metric to list\n",
    "    metric = cv_model.avgMetrics[idx_1]\n",
    "    model_values.append(round(metric, 2))\n",
    "    \n",
    "    values.append(model_values)"
   ]
  },
  {
   "cell_type": "code",
   "execution_count": 21,
   "metadata": {},
   "outputs": [
    {
     "name": "stdout",
     "output_type": "stream",
     "text": [
      "+-----------------------------------------------------------------------+----------------+-------------------------------------+------+\n",
      "|param_1                                                                |param_2         |param_3                              |metric|\n",
      "+-----------------------------------------------------------------------+----------------+-------------------------------------+------+\n",
      "|{'stages': ['VectorAssembler', 'Normalizer', 'RandomForestClassifier']}|{'numTrees': 30}|{'featureSubsetStrategy': 'onethird'}|0.84  |\n",
      "|{'stages': ['VectorAssembler', 'Normalizer', 'RandomForestClassifier']}|{'numTrees': 10}|{'featureSubsetStrategy': 'onethird'}|0.84  |\n",
      "|{'stages': ['VectorAssembler', 'Normalizer', 'RandomForestClassifier']}|{'numTrees': 20}|{'featureSubsetStrategy': 'onethird'}|0.84  |\n",
      "|{'stages': ['VectorAssembler', 'Normalizer', 'RandomForestClassifier']}|{'numTrees': 20}|{'featureSubsetStrategy': 'sqrt'}    |0.84  |\n",
      "|{'stages': ['VectorAssembler', 'Normalizer', 'RandomForestClassifier']}|{'numTrees': 10}|{'featureSubsetStrategy': 'sqrt'}    |0.83  |\n",
      "|{'stages': ['VectorAssembler', 'Normalizer', 'RandomForestClassifier']}|{'numTrees': 30}|{'featureSubsetStrategy': 'sqrt'}    |0.83  |\n",
      "|{'stages': ['VectorAssembler', 'Normalizer', 'GBTClassifier']}         |{'maxDepth': 5} |{'featureSubsetStrategy': 'onethird'}|0.81  |\n",
      "|{'stages': ['VectorAssembler', 'Normalizer', 'GBTClassifier']}         |{'maxDepth': 10}|{'featureSubsetStrategy': 'onethird'}|0.81  |\n",
      "|{'stages': ['VectorAssembler', 'Normalizer', 'GBTClassifier']}         |{'maxDepth': 15}|{'featureSubsetStrategy': 'onethird'}|0.8   |\n",
      "|{'stages': ['VectorAssembler', 'Normalizer', 'GBTClassifier']}         |{'maxDepth': 5} |{'featureSubsetStrategy': 'sqrt'}    |0.79  |\n",
      "|{'stages': ['VectorAssembler', 'Normalizer', 'GBTClassifier']}         |{'maxDepth': 10}|{'featureSubsetStrategy': 'sqrt'}    |0.77  |\n",
      "|{'stages': ['VectorAssembler', 'Normalizer', 'GBTClassifier']}         |{'maxDepth': 15}|{'featureSubsetStrategy': 'sqrt'}    |0.76  |\n",
      "+-----------------------------------------------------------------------+----------------+-------------------------------------+------+\n",
      "\n"
     ]
    }
   ],
   "source": [
    "df_results = spark.createDataFrame(values, columns)\n",
    "df_results.orderBy(\"metric\", ascending=False).show(truncate=False)"
   ]
  },
  {
   "cell_type": "markdown",
   "metadata": {},
   "source": [
    "#### Worst model\n",
    "\n",
    "The worst model is a Gradient-Boosted Tree with `maxDepth = 15` and `featureSubsetStrategy = \"sqrt\"`."
   ]
  },
  {
   "cell_type": "code",
   "execution_count": 22,
   "metadata": {},
   "outputs": [
    {
     "data": {
      "text/plain": [
       "0.7626007853714708"
      ]
     },
     "execution_count": 22,
     "metadata": {},
     "output_type": "execute_result"
    }
   ],
   "source": [
    "cv_model.avgMetrics[np.argmin(cv_model.avgMetrics)]"
   ]
  },
  {
   "cell_type": "code",
   "execution_count": 23,
   "metadata": {},
   "outputs": [
    {
     "data": {
      "text/plain": [
       "{Param(parent='Pipeline_60fff49b6bdc', name='stages', doc='a list of pipeline stages'): [VectorAssembler_fbe6f3169f33,\n",
       "  Normalizer_37e70c827daa,\n",
       "  GBTClassifier_bc4c9b8f0032],\n",
       " Param(parent='GBTClassifier_bc4c9b8f0032', name='maxDepth', doc='Maximum depth of the tree. (>= 0) E.g., depth 0 means 1 leaf node; depth 1 means 1 internal node + 2 leaf nodes.'): 15,\n",
       " Param(parent='GBTClassifier_bc4c9b8f0032', name='featureSubsetStrategy', doc=\"The number of features to consider for splits at each tree node. Supported options: 'auto' (choose automatically for task: If numTrees == 1, set to 'all'. If numTrees > 1 (forest), set to 'sqrt' for classification and to 'onethird' for regression), 'all' (use all features), 'onethird' (use 1/3 of the features), 'sqrt' (use sqrt(number of features)), 'log2' (use log2(number of features)), 'n' (when n is in the range (0, 1.0], use n * number of features. When n is in the range (1, number of features), use n features). default = 'auto'\"): 'sqrt'}"
      ]
     },
     "execution_count": 23,
     "metadata": {},
     "output_type": "execute_result"
    }
   ],
   "source": [
    "cv_model.getEstimatorParamMaps()[np.argmin(cv_model.avgMetrics)]"
   ]
  },
  {
   "cell_type": "markdown",
   "metadata": {},
   "source": [
    "#### Best model\n",
    "\n",
    "The best model is a Random Forest with `numTrees = 30` and `featureSubsetStrategy = \"onethird\"`."
   ]
  },
  {
   "cell_type": "code",
   "execution_count": 24,
   "metadata": {
    "scrolled": true
   },
   "outputs": [
    {
     "data": {
      "text/plain": [
       "0.842621234151868"
      ]
     },
     "execution_count": 24,
     "metadata": {},
     "output_type": "execute_result"
    }
   ],
   "source": [
    "cv_model.avgMetrics[np.argmax(cv_model.avgMetrics)]"
   ]
  },
  {
   "cell_type": "code",
   "execution_count": 25,
   "metadata": {
    "scrolled": true
   },
   "outputs": [
    {
     "data": {
      "text/plain": [
       "{Param(parent='Pipeline_60fff49b6bdc', name='stages', doc='a list of pipeline stages'): [VectorAssembler_fbe6f3169f33,\n",
       "  Normalizer_37e70c827daa,\n",
       "  RandomForestClassifier_8fd1f0b4f8a1],\n",
       " Param(parent='RandomForestClassifier_8fd1f0b4f8a1', name='numTrees', doc='Number of trees to train (>= 1).'): 30,\n",
       " Param(parent='RandomForestClassifier_8fd1f0b4f8a1', name='featureSubsetStrategy', doc=\"The number of features to consider for splits at each tree node. Supported options: 'auto' (choose automatically for task: If numTrees == 1, set to 'all'. If numTrees > 1 (forest), set to 'sqrt' for classification and to 'onethird' for regression), 'all' (use all features), 'onethird' (use 1/3 of the features), 'sqrt' (use sqrt(number of features)), 'log2' (use log2(number of features)), 'n' (when n is in the range (0, 1.0], use n * number of features. When n is in the range (1, number of features), use n features). default = 'auto'\"): 'onethird'}"
      ]
     },
     "execution_count": 25,
     "metadata": {},
     "output_type": "execute_result"
    }
   ],
   "source": [
    "cv_model.getEstimatorParamMaps()[np.argmax(cv_model.avgMetrics)]"
   ]
  },
  {
   "cell_type": "code",
   "execution_count": 26,
   "metadata": {},
   "outputs": [],
   "source": [
    "feature_imp = [i for i in cv_model.bestModel.stages[2].featureImportances]"
   ]
  },
  {
   "cell_type": "code",
   "execution_count": 27,
   "metadata": {},
   "outputs": [],
   "source": [
    "df_feature_imp = (\n",
    "    spark\n",
    "    .createDataFrame(\n",
    "        [(str(elem[0]), float(elem[1])) for elem in zip(features, feature_imp)],\n",
    "        schema=[\"feature\", \"feature_importance\"]\n",
    "    )\n",
    "    .toPandas()\n",
    ")"
   ]
  },
  {
   "cell_type": "code",
   "execution_count": 28,
   "metadata": {},
   "outputs": [
    {
     "data": {
      "image/png": "[encoded data removed]",
      "text/plain": [
       "<Figure size 720x576 with 1 Axes>"
      ]
     },
     "metadata": {
      "needs_background": "light"
     },
     "output_type": "display_data"
    }
   ],
   "source": [
    "df_feature_imp.plot(\n",
    "    x=\"feature\",\n",
    "    y=\"feature_importance\",\n",
    "    kind=\"bar\",\n",
    "    figsize=(10,8),\n",
    "    title=\"Sparkify: Feature importance of best model\",\n",
    "    legend=False,\n",
    "    color=\"#1f77b4\",\n",
    ");"
   ]
  },
  {
   "cell_type": "markdown",
   "metadata": {},
   "source": [
    "#### Predict new data using the best model\n",
    "\n",
    "PySpark will automatically select the best model for making predictions."
   ]
  },
  {
   "cell_type": "code",
   "execution_count": 29,
   "metadata": {},
   "outputs": [],
   "source": [
    "prediction = cv_model.transform(test)"
   ]
  },
  {
   "cell_type": "code",
   "execution_count": 30,
   "metadata": {},
   "outputs": [
    {
     "data": {
      "text/plain": [
       "0.9171083258121213"
      ]
     },
     "execution_count": 30,
     "metadata": {},
     "output_type": "execute_result"
    }
   ],
   "source": [
    "# F1 score\n",
    "f1_score = evaluator.evaluate(prediction)\n",
    "f1_score"
   ]
  },
  {
   "cell_type": "code",
   "execution_count": 31,
   "metadata": {},
   "outputs": [
    {
     "data": {
      "text/plain": [
       "array([[71.,  3.],\n",
       "       [ 4.,  8.]])"
      ]
     },
     "execution_count": 31,
     "metadata": {},
     "output_type": "execute_result"
    }
   ],
   "source": [
    "prediction = prediction.withColumn(\"label\", F.col(\"label\").cast(FloatType()))\n",
    "preds_and_labels = prediction.select(\"prediction\", \"label\").orderBy(\"prediction\")\n",
    "metrics = MulticlassMetrics(preds_and_labels.rdd.map(tuple))\n",
    "confusion_matrix = metrics.confusionMatrix().toArray()\n",
    "confusion_matrix"
   ]
  },
  {
   "cell_type": "markdown",
   "metadata": {},
   "source": [
    "### Results\n",
    "\n",
    "- The data was randomly split into a training set with 362 users and a test set with 86 users.\n",
    "- The training set was used to train 12 different models (6 Gradient-Boosted Trees & 6 Random Forests).\n",
    "- Using 5-fold cross-validation, the performance of each of the models was evaluated during training.\n",
    "- It took the pipeline 9,638 seconds or a bit more than 2.5 hours to train the different models.\n",
    "- **Best model:** With an F1 Score of 0.842, the Random Forest with 30 trees and the feature subset strategy \"onethird\" was the best model for predicting churn during cross-validation.\n",
    "- The feature importance chart below provides additional insights:\n",
    "\n",
    "1. The number of interactions a user has made (`interactions`), the interactions a user has made per day (`interactions_per_day`), and the activity factor which is the share of interactions with a PUT method (`activity_factor`) are most important for predicting churn.\n",
    "2. On the other hand, the gender is the least important for churn prediction.\n",
    "3. In other words, how often somebody uses the Sparkify service an how actively somebody uses the Sparkify service are the factors that are mostly influencing whether a user is likely to churn.\n",
    "\n",
    "- On the test set, the best Random Forest achieved an F1 Score of 0.876.\n",
    "- The gap between the training set score 0.844 and the test set score 0.876, shows that there is no under- or overfitting of the data.\n",
    "- The better performance on the test set is expected to be due to the relatively small sample size. Usually, a prediction does not perform better on the test set but this effect is most likely because of the small sample size and will balance with more data."
   ]
  },
  {
   "cell_type": "markdown",
   "metadata": {},
   "source": [
    "## 4. Conclusion<a name=\"conclusion\"></a>\n",
    "\n",
    "### Reflection\n",
    "\n",
    "The project covered a realistic end-to-end project: from receiving an unknown dataset to coming up with predictions that can be used for steering business decisions. The data was provided in a quite structured and cleaned way. Data exploration has shown that some preprocessing and cleaning steps were still required though. After having created the features for making predictions, 12 models were tested using 5-fold cross-validation and grid-search. Finally, the best model was evaluated and investigated more detailed.\n",
    "\n",
    "Interestingly, the process was quite straightforward in this project. In practice, there will be much more complexity and iteration in such a process most of the time. This is because multiple stakeholders will be involved and the project will cover even more aspects, e.g. data preparation, presentation of results, implementation of the model.\n",
    "\n",
    "The learning algorithm which is quite simple predicted that 11 of the 86 user are likely to churn. 8 of those 11 customers turned out to actually have churned. Using more data, more sophisticated features and different learning algorithms, the performance might get even better. In a real-world setting, Sparkify could have invested into trying to prevent these 11 customers from churning.\n",
    "\n",
    "### Improvement\n",
    "\n",
    "Finally, this section summarizes thoughts about further improvement:\n",
    "\n",
    "1. Improve the feature engineering process\n",
    "    - The features of the ML model in this project were quite intuitive and simple and there is for sure room to improve this.\n",
    "    - Ideas:\n",
    "        - Dive deeper into feature importance of the trained models to learn about what helps the model in identifying patterns and what doesn't.\n",
    "        - Add more creativity/ideas/experience to the task by discussing in a team.\n",
    "2. Wrap the preprocessing steps into the Pipeline to keep all steps together\n",
    "3. Try more learning algorithms\n",
    "4. Try different parameter grids\n",
    "5. Automate the pipeline to make it run on a regular basis\n",
    "    - In practice, this task may be recurrent (obviously after it has been A/B tested and approved).\n",
    "    - Code should be organized in `.py` files to make its execution easier.\n",
    "    - The pipeline should run automatically on a regular basis."
   ]
  },
  {
   "cell_type": "code",
   "execution_count": null,
   "metadata": {},
   "outputs": [],
   "source": []
  }
 ],
 "metadata": {
  "kernelspec": {
   "display_name": "PySpark",
   "language": "python",
   "name": "pyspark"
  },
  "language_info": {
   "codemirror_mode": {
    "name": "ipython",
    "version": 3
   },
   "file_extension": ".py",
   "mimetype": "text/x-python",
   "name": "python",
   "nbconvert_exporter": "python",
   "pygments_lexer": "ipython3",
   "version": "3.7.4"
  }
 },
 "nbformat": 4,
 "nbformat_minor": 4
}
